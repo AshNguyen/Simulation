{
 "cells": [
  {
   "cell_type": "code",
   "execution_count": 1,
   "metadata": {},
   "outputs": [],
   "source": [
    "import numpy as np \n",
    "import matplotlib.pyplot as plt"
   ]
  },
  {
   "cell_type": "code",
   "execution_count": 3,
   "metadata": {},
   "outputs": [],
   "source": [
    "class TrafficSimulator1Lane:\n",
    "    \n",
    "    def __init__(self, initial_density, length, v_max, p_slow_down, random_v = False): \n",
    "        #Simulator parameters\n",
    "        self.initial_density = initial_density\n",
    "        self.length = length\n",
    "        self.v_max = v_max\n",
    "        self.p_slow_down = p_slow_down\n",
    "        \n",
    "        #Building the initial state\n",
    "        self.current_state = -np.ones(self.length)\n",
    "        if random_v: \n",
    "            choices = np.random.choice(self.length, size=int(self.initial_density*self.length), replace=False)\n",
    "            for i in choices:\n",
    "                self.current_state[i] = np.random.choice(range(1, self.v_max), size=1)\n",
    "        else: \n",
    "            self.current_state[np.random.choice(self.length, size=int(self.initial_density*self.length), replace=False)] \\\n",
    "            = 0\n",
    "        self.next_state = np.copy(self.current_state)\n",
    "        \n",
    "        #Time-keeping and other logs\n",
    "        self.time = 0\n",
    "        self.q = []\n",
    "    \n",
    "    def flow_count(self): \n",
    "        count = 0\n",
    "        for i in range(1, self.v_max+1): \n",
    "            if self.current_state[-i] >= i: \n",
    "                count += 1\n",
    "        return count\n",
    "    \n",
    "    def increment_time(self): \n",
    "        ##Calculating new velocities\n",
    "        car_indices = (self.next_state > -1)\n",
    "        car_below_maxv_indices = (self.next_state < self.v_max)\n",
    "        #increment all velocity by 1, if < v_max\n",
    "        self.next_state += np.array(car_indices*car_below_maxv_indices, dtype=int)\n",
    "        #figure out where the cars are, including first car new relative position\n",
    "        # because of the periodic boundary\n",
    "        car_where = np.where(car_indices == 1)\n",
    "        car_where = np.append(car_where, car_where[0][0] + self.length)\n",
    "        #count the distance between cars\n",
    "        car_distance_counts = np.ediff1d(car_where) - 1\n",
    "        car_distance = -np.ones(shape=self.length)\n",
    "        car_distance[np.where(car_indices == 1)[0]] = car_distance_counts\n",
    "        #calculate deterministic new velocities, by element-wise minimum of increase velocity and distance\n",
    "        self.next_state = np.minimum(self.next_state, car_distance)\n",
    "        #randomly decrease velocity, due to driver behaviors\n",
    "        car_above_minv_indices = (self.next_state > 0)\n",
    "        random_decrease = (np.random.uniform(size=self.length) < self.p_slow_down)\n",
    "        self.next_state -= (car_above_minv_indices*random_decrease)\n",
    "        \n",
    "        ##Counting the flow in this step\n",
    "        self.q.append(self.flow_count())            \n",
    "        \n",
    "        ##Moving the cars\n",
    "        self.current_state = -np.ones(shape=self.current_state.shape)\n",
    "        next_positions = (np.where(self.next_state > -1)[0] + self.next_state[car_indices])%self.length\n",
    "        self.current_state[np.array(next_positions, dtype=int)] = self.next_state[car_indices]\n",
    "        \n",
    "        self.next_state = np.copy(self.current_state)\n",
    "        self.time += 1\n",
    "        \n",
    "        \n",
    "    def display(self):\n",
    "        print(''.join('-' if x == -1 else str(int(x)) for x in self.current_state))"
   ]
  },
  {
   "cell_type": "code",
   "execution_count": null,
   "metadata": {},
   "outputs": [],
   "source": [
    "#low density\n",
    "sim = TrafficSimulator1Lane(0.03, 10**4, 5, 0.5, random_v = True)\n",
    "\n",
    "import time\n",
    "start = time.time()\n",
    "for _ in range(10**3): \n",
    "    sim.increment_time()\n",
    "\n",
    "print(time.time() - start)"
   ]
  },
  {
   "cell_type": "code",
   "execution_count": null,
   "metadata": {},
   "outputs": [],
   "source": [
    "#high density\n",
    "sim = TrafficSimulator1Lane(0.1, 100, 5, 0.5, random_v = True)\n",
    "\n",
    "for _ in range(100): \n",
    "    sim.display()\n",
    "    sim.increment_time()"
   ]
  },
  {
   "cell_type": "code",
   "execution_count": 5,
   "metadata": {},
   "outputs": [
    {
     "data": {
      "image/png": "[encoded data removed]",
      "text/plain": [
       "<Figure size 864x576 with 1 Axes>"
      ]
     },
     "metadata": {
      "needs_background": "light"
     },
     "output_type": "display_data"
    }
   ],
   "source": [
    "def run_traffic_simulation(n, initial_density):\n",
    "    flow_density = []\n",
    "    for _ in range(n):\n",
    "        sim = TrafficSimulator1Lane(initial_density, 10**4, 5, 0.5, random_v = True)\n",
    "        for _ in range(10**3): \n",
    "            sim.increment_time()\n",
    "        flow_density.append(sum(sim.q)/len(sim.q))\n",
    "    return flow_density\n",
    "\n",
    "initial_density = np.linspace(0.01, 0.8, 30)\n",
    "\n",
    "q = []\n",
    "for density in initial_density:\n",
    "    one = run_traffic_simulation(10, density)\n",
    "    q.append(sum(one)/len(one))\n",
    "\n",
    "plt.figure(figsize=(12,8))\n",
    "plt.plot(initial_density, q)\n",
    "plt.show()"
   ]
  }
 ],
 "metadata": {
  "kernelspec": {
   "display_name": "Python 3",
   "language": "python",
   "name": "python3"
  },
  "language_info": {
   "codemirror_mode": {
    "name": "ipython",
    "version": 3
   },
   "file_extension": ".py",
   "mimetype": "text/x-python",
   "name": "python",
   "nbconvert_exporter": "python",
   "pygments_lexer": "ipython3",
   "version": "3.6.8"
  }
 },
 "nbformat": 4,
 "nbformat_minor": 2
}
